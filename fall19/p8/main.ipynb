{
 "cells": [
  {
   "cell_type": "code",
   "execution_count": 1,
   "metadata": {},
   "outputs": [],
   "source": [
    "import csv"
   ]
  },
  {
   "cell_type": "code",
   "execution_count": 2,
   "metadata": {},
   "outputs": [],
   "source": [
    "def get_mapping(path):\n",
    "    with open(path, mode='r') as infile:\n",
    "        reader = csv.reader(infile)\n",
    "        mydict = {rows[0]:rows[1] for rows in reader}\n",
    "        return mydict"
   ]
  },
  {
   "cell_type": "code",
   "execution_count": 3,
   "metadata": {},
   "outputs": [
    {
     "data": {
      "text/plain": [
       "{'nm0000131': 'John Cusack',\n",
       " 'nm0000154': 'Mel Gibson',\n",
       " 'nm0000163': 'Dustin Hoffman',\n",
       " 'nm0000418': 'Danny Glover',\n",
       " 'nm0000432': 'Gene Hackman',\n",
       " 'nm0000997': 'Gary Busey',\n",
       " 'nm0001149': 'Richard Donner',\n",
       " 'nm0001219': 'Gary Fleder',\n",
       " 'nm0752751': 'Mitchell Ryan',\n",
       " 'tt0313542': 'Runaway Jury',\n",
       " 'tt0093409': 'Lethal Weapon'}"
      ]
     },
     "execution_count": 3,
     "metadata": {},
     "output_type": "execute_result"
    }
   ],
   "source": [
    "#q1\n",
    "#what is returned by your get_mapping(\"small_mapping.csv\") function?\n",
    "mapping = get_mapping('small_mapping.csv')\n",
    "mapping"
   ]
  },
  {
   "cell_type": "code",
   "execution_count": 4,
   "metadata": {},
   "outputs": [
    {
     "data": {
      "text/plain": [
       "'Mitchell Ryan'"
      ]
     },
     "execution_count": 4,
     "metadata": {},
     "output_type": "execute_result"
    }
   ],
   "source": [
    "#q2\n",
    "#what is the value associated with the key \"tt0313542\"?\n",
    "#what is the value associated with the key \"nm0752751\"?\n",
    "mapping['nm0752751']"
   ]
  },
  {
   "cell_type": "code",
   "execution_count": 5,
   "metadata": {},
   "outputs": [
    {
     "data": {
      "text/plain": [
       "['John Cusack',\n",
       " 'Mel Gibson',\n",
       " 'Dustin Hoffman',\n",
       " 'Danny Glover',\n",
       " 'Gene Hackman',\n",
       " 'Gary Busey',\n",
       " 'Richard Donner',\n",
       " 'Gary Fleder',\n",
       " 'Mitchell Ryan']"
      ]
     },
     "execution_count": 5,
     "metadata": {},
     "output_type": "execute_result"
    }
   ],
   "source": [
    "#q3\n",
    "#what are the values in the mapping associated with keys beginning with \"tt\"?\n",
    "#what are the values in the mapping associated with keys beginning with \"nm\"?\n",
    "values_with_keys_tt = []\n",
    "for key in mapping:\n",
    "    if key.startswith('nm'):\n",
    "        values_with_keys_tt += [mapping[key]]\n",
    "values_with_keys_tt"
   ]
  },
  {
   "cell_type": "code",
   "execution_count": 6,
   "metadata": {},
   "outputs": [
    {
     "data": {
      "text/plain": [
       "['nm0000997', 'nm0001219']"
      ]
     },
     "execution_count": 6,
     "metadata": {},
     "output_type": "execute_result"
    }
   ],
   "source": [
    "#q4\n",
    "#which keys in the mapping map to people with a first name of \"Gary\"?\n",
    "keys_with_gary = []\n",
    "for key in mapping:\n",
    "    value = mapping[key]\n",
    "    if value.startswith('Gary '):\n",
    "        keys_with_gary += [key]\n",
    "keys_with_gary"
   ]
  },
  {
   "cell_type": "code",
   "execution_count": 7,
   "metadata": {},
   "outputs": [],
   "source": [
    "def get_raw_movies(path):\n",
    "    movies = []\n",
    "    keys = []\n",
    "    first = True\n",
    "    with open(path, mode='r') as infile:\n",
    "        reader = csv.reader(infile)\n",
    "        for row in reader:\n",
    "            if first is True:\n",
    "                keys = row\n",
    "                first = False\n",
    "            else:\n",
    "                values = row\n",
    "                movie_dict = {}\n",
    "                for i in range(len(keys)):\n",
    "                    movie_dict[keys[i]] = values[i]\n",
    "                movie_dict['year'] = int(movie_dict['year'])\n",
    "                movie_dict['rating'] = float(movie_dict['rating'])\n",
    "                movie_dict['directors'] = movie_dict['directors'].split(',')\n",
    "                movie_dict['actors'] = movie_dict['actors'].split(',')\n",
    "                movie_dict['genres'] = movie_dict['genres'].split(',')\n",
    "                movies += [movie_dict]\n",
    "    return movies"
   ]
  },
  {
   "cell_type": "code",
   "execution_count": 8,
   "metadata": {},
   "outputs": [
    {
     "data": {
      "text/plain": [
       "[{'title': 'tt0313542',\n",
       "  'year': 2003,\n",
       "  'rating': 7.1,\n",
       "  'directors': ['nm0001219'],\n",
       "  'actors': ['nm0000131', 'nm0000432', 'nm0000163'],\n",
       "  'genres': ['Crime', 'Drama', 'Thriller']},\n",
       " {'title': 'tt0093409',\n",
       "  'year': 1987,\n",
       "  'rating': 7.6,\n",
       "  'directors': ['nm0001149'],\n",
       "  'actors': ['nm0000154', 'nm0000418', 'nm0000997', 'nm0752751'],\n",
       "  'genres': ['Action', 'Crime', 'Thriller']}]"
      ]
     },
     "execution_count": 8,
     "metadata": {},
     "output_type": "execute_result"
    }
   ],
   "source": [
    "#q5\n",
    "#what does get_raw_movies(\"small_movies.csv\") return?\n",
    "movies = get_raw_movies(\"small_movies.csv\")\n",
    "movies"
   ]
  },
  {
   "cell_type": "code",
   "execution_count": 9,
   "metadata": {},
   "outputs": [
    {
     "data": {
      "text/plain": [
       "3"
      ]
     },
     "execution_count": 9,
     "metadata": {},
     "output_type": "execute_result"
    }
   ],
   "source": [
    "#q6\n",
    "#how many genres did the movie at index 1 have?\n",
    "len(movies[0]['genres'])"
   ]
  },
  {
   "cell_type": "code",
   "execution_count": 10,
   "metadata": {},
   "outputs": [
    {
     "data": {
      "text/plain": [
       "'nm0752751'"
      ]
     },
     "execution_count": 10,
     "metadata": {},
     "output_type": "execute_result"
    }
   ],
   "source": [
    "#q7\n",
    "#what is the ID of the last actor listed for the move at index 1?\n",
    "movies[1]['actors'][-1]"
   ]
  },
  {
   "cell_type": "code",
   "execution_count": 11,
   "metadata": {},
   "outputs": [],
   "source": [
    "def get_movies(movies_path, mappings_path):\n",
    "    mappings = get_mapping(mappings_path)\n",
    "    movies = get_raw_movies(movies_path)\n",
    "    for movie in movies:\n",
    "        movie['title'] = mappings[movie['title']]\n",
    "        director_names = []\n",
    "        for director in movie['directors']:\n",
    "            director_names += [mappings[director]]\n",
    "        movie['directors'] = director_names\n",
    "        actor_names = []\n",
    "        for actor in movie['actors']:\n",
    "            actor_names += [mappings[actor]]\n",
    "        movie['actors'] = actor_names\n",
    "    return movies"
   ]
  },
  {
   "cell_type": "code",
   "execution_count": 12,
   "metadata": {},
   "outputs": [],
   "source": [
    "small = get_movies('small_movies.csv', 'small_mapping.csv')"
   ]
  },
  {
   "cell_type": "code",
   "execution_count": 13,
   "metadata": {},
   "outputs": [
    {
     "data": {
      "text/plain": [
       "'Runaway Jury'"
      ]
     },
     "execution_count": 13,
     "metadata": {},
     "output_type": "execute_result"
    }
   ],
   "source": [
    "#q8\n",
    "#what is small[0][\"title\"]?\n",
    "small[0][\"title\"]"
   ]
  },
  {
   "cell_type": "code",
   "execution_count": 14,
   "metadata": {},
   "outputs": [
    {
     "data": {
      "text/plain": [
       "['Mel Gibson', 'Danny Glover', 'Gary Busey', 'Mitchell Ryan']"
      ]
     },
     "execution_count": 14,
     "metadata": {},
     "output_type": "execute_result"
    }
   ],
   "source": [
    "#q9\n",
    "#what is small[1][\"directors\"]?\n",
    "#what is small[1][\"actors\"]?\n",
    "small[1][\"actors\"]"
   ]
  },
  {
   "cell_type": "code",
   "execution_count": 15,
   "metadata": {},
   "outputs": [
    {
     "data": {
      "text/plain": [
       "['Richard Donner']"
      ]
     },
     "execution_count": 15,
     "metadata": {},
     "output_type": "execute_result"
    }
   ],
   "source": [
    "#q10\n",
    "#what is small[-1][\"actors\"]?\n",
    "#what is small[-1][\"directors\"]?\n",
    "small[-1][\"directors\"]"
   ]
  },
  {
   "cell_type": "code",
   "execution_count": 16,
   "metadata": {},
   "outputs": [
    {
     "data": {
      "text/plain": [
       "[{'title': 'Runaway Jury',\n",
       "  'year': 2003,\n",
       "  'rating': 7.1,\n",
       "  'directors': ['Gary Fleder'],\n",
       "  'actors': ['John Cusack', 'Gene Hackman', 'Dustin Hoffman'],\n",
       "  'genres': ['Crime', 'Drama', 'Thriller']},\n",
       " {'title': 'Lethal Weapon',\n",
       "  'year': 1987,\n",
       "  'rating': 7.6,\n",
       "  'directors': ['Richard Donner'],\n",
       "  'actors': ['Mel Gibson', 'Danny Glover', 'Gary Busey', 'Mitchell Ryan'],\n",
       "  'genres': ['Action', 'Crime', 'Thriller']}]"
      ]
     },
     "execution_count": 16,
     "metadata": {},
     "output_type": "execute_result"
    }
   ],
   "source": [
    "#q11\n",
    "#what is small?\n",
    "small"
   ]
  },
  {
   "cell_type": "code",
   "execution_count": 17,
   "metadata": {},
   "outputs": [],
   "source": [
    "movies = get_movies(\"movies.csv\", \"mapping.csv\")"
   ]
  },
  {
   "cell_type": "code",
   "execution_count": 18,
   "metadata": {},
   "outputs": [
    {
     "data": {
      "text/plain": [
       "[{'title': 'The Big Wedding',\n",
       "  'year': 2013,\n",
       "  'rating': 5.6,\n",
       "  'directors': ['Justin Zackham'],\n",
       "  'actors': ['Robert De Niro'],\n",
       "  'genres': ['Comedy', 'Drama', 'Romance']},\n",
       " {'title': 'The Affair of the Necklace',\n",
       "  'year': 2001,\n",
       "  'rating': 6.1,\n",
       "  'directors': ['Charles Shyer'],\n",
       "  'actors': ['Simon Baker', 'Jonathan Pryce', 'Adrien Brody'],\n",
       "  'genres': ['Drama', 'History', 'Romance']},\n",
       " {'title': 'The Barefoot Executive',\n",
       "  'year': 1971,\n",
       "  'rating': 6.0,\n",
       "  'directors': ['Robert Butler'],\n",
       "  'actors': ['Kurt Russell', 'Joe Flynn', 'Harry Morgan', 'Wally Cox'],\n",
       "  'genres': ['Comedy', 'Family']}]"
      ]
     },
     "execution_count": 18,
     "metadata": {},
     "output_type": "execute_result"
    }
   ],
   "source": [
    "#q12\n",
    "#what are the first 3 rows in movies?\n",
    "movies[:3]"
   ]
  },
  {
   "cell_type": "code",
   "execution_count": 19,
   "metadata": {},
   "outputs": [
    {
     "data": {
      "text/plain": [
       "[{'title': 'Fortitude and Glory: Angelo Dundee and His Fighters',\n",
       "  'year': 2012,\n",
       "  'rating': 7.2,\n",
       "  'directors': ['Chris Tasara'],\n",
       "  'actors': ['Angelo Dundee', 'George Foreman', 'Freddie Roach'],\n",
       "  'genres': ['Sport']},\n",
       " {'title': 'Ivanhoe',\n",
       "  'year': 1952,\n",
       "  'rating': 6.8,\n",
       "  'directors': ['Richard Thorpe'],\n",
       "  'actors': ['Robert Taylor', 'George Sanders'],\n",
       "  'genres': ['Adventure', 'Drama', 'History']},\n",
       " {'title': 'The Great Gatsby',\n",
       "  'year': 1949,\n",
       "  'rating': 6.6,\n",
       "  'directors': ['Elliott Nugent'],\n",
       "  'actors': ['Alan Ladd', 'Macdonald Carey'],\n",
       "  'genres': ['Drama']}]"
      ]
     },
     "execution_count": 19,
     "metadata": {},
     "output_type": "execute_result"
    }
   ],
   "source": [
    "#q13\n",
    "#what are the last 3 rows in movies?\n",
    "movies[-3:]"
   ]
  },
  {
   "cell_type": "code",
   "execution_count": 20,
   "metadata": {},
   "outputs": [],
   "source": [
    "# you are not allowed to change this function\n",
    "def filter_movies_by_year(movies, year):\n",
    "    i = 0\n",
    "    movies_copy = movies.copy()\n",
    "    while i < len(movies_copy):\n",
    "        if movies_copy[i][\"year\"] != year:\n",
    "            movies_copy.pop(i)\n",
    "        else:\n",
    "            i += 1\n",
    "    return movies_copy"
   ]
  },
  {
   "cell_type": "code",
   "execution_count": 21,
   "metadata": {},
   "outputs": [
    {
     "data": {
      "text/plain": [
       "[{'title': 'Redskin',\n",
       "  'year': 1929,\n",
       "  'rating': 7.0,\n",
       "  'directors': ['Victor Schertzinger'],\n",
       "  'actors': ['Richard Dix', 'Tully Marshall', 'George Regas'],\n",
       "  'genres': ['Adventure', 'Drama', 'Western']},\n",
       " {'title': 'The Girl in the Show',\n",
       "  'year': 1929,\n",
       "  'rating': 6.5,\n",
       "  'directors': ['Edgar Selwyn'],\n",
       "  'actors': ['Raymond Hackett', 'Edward J. Nugent'],\n",
       "  'genres': ['Comedy']},\n",
       " {'title': 'Atlantic',\n",
       "  'year': 1929,\n",
       "  'rating': 5.5,\n",
       "  'directors': ['Ewald André Dupont'],\n",
       "  'actors': ['Franklin Dyall', 'John Stuart'],\n",
       "  'genres': ['Drama']}]"
      ]
     },
     "execution_count": 21,
     "metadata": {},
     "output_type": "execute_result"
    }
   ],
   "source": [
    "#q14\n",
    "#what are the movies from 1930?\n",
    "#what are the movies from 1929?\n",
    "movies_1930 = filter_movies_by_year(movies, 1929)\n",
    "movies_1930"
   ]
  },
  {
   "cell_type": "code",
   "execution_count": 22,
   "metadata": {},
   "outputs": [
    {
     "data": {
      "text/plain": [
       "[{'title': 'Arizona',\n",
       "  'year': 1931,\n",
       "  'rating': 6.0,\n",
       "  'directors': ['George B. Seitz'],\n",
       "  'actors': ['John Wayne', 'Forrest Stanley'],\n",
       "  'genres': ['Drama', 'Romance']},\n",
       " {'title': 'City Lights',\n",
       "  'year': 1931,\n",
       "  'rating': 8.5,\n",
       "  'directors': ['Charles Chaplin'],\n",
       "  'actors': ['Charles Chaplin', 'Harry Myers'],\n",
       "  'genres': ['Comedy', 'Drama', 'Romance']},\n",
       " {'title': 'The Range Feud',\n",
       "  'year': 1931,\n",
       "  'rating': 5.8,\n",
       "  'directors': ['D. Ross Lederman'],\n",
       "  'actors': ['Buck Jones', 'John Wayne', 'Edward LeSaint'],\n",
       "  'genres': ['Mystery', 'Western']}]"
      ]
     },
     "execution_count": 22,
     "metadata": {},
     "output_type": "execute_result"
    }
   ],
   "source": [
    "#q15\n",
    "#what are the movies from 1931?\n",
    "filter_movies_by_year(movies, 1931)"
   ]
  },
  {
   "cell_type": "code",
   "execution_count": 23,
   "metadata": {},
   "outputs": [],
   "source": [
    "def get_number_of_uniques(movies, column):\n",
    "    unique_col_values = set()\n",
    "    for movie in movies:\n",
    "        for val in movie[column]:\n",
    "            unique_col_values.add(val)\n",
    "    return len(unique_col_values)"
   ]
  },
  {
   "cell_type": "code",
   "execution_count": 24,
   "metadata": {},
   "outputs": [
    {
     "data": {
      "text/plain": [
       "18"
      ]
     },
     "execution_count": 24,
     "metadata": {},
     "output_type": "execute_result"
    }
   ],
   "source": [
    "#q16\n",
    "#how many unique genres are there in the dataset?\n",
    "get_number_of_uniques(movies, 'genres')"
   ]
  },
  {
   "cell_type": "code",
   "execution_count": 25,
   "metadata": {},
   "outputs": [
    {
     "data": {
      "text/plain": [
       "1247"
      ]
     },
     "execution_count": 25,
     "metadata": {},
     "output_type": "execute_result"
    }
   ],
   "source": [
    "#q17\n",
    "#how many unique actor names are there in the dataset?\n",
    "get_number_of_uniques(movies, 'directors')"
   ]
  },
  {
   "cell_type": "code",
   "execution_count": 26,
   "metadata": {},
   "outputs": [
    {
     "data": {
      "text/plain": [
       "'Shoulder Arms'"
      ]
     },
     "execution_count": 26,
     "metadata": {},
     "output_type": "execute_result"
    }
   ],
   "source": [
    "#q18\n",
    "#how many unique director names are there in the dataset?\n",
    "#which movie has the highest number of actors, give the output of the movie title as a string\n",
    "\n",
    "def get_highest_actors(movies):\n",
    "    highest_actors = 0 \n",
    "    highest_movie = []\n",
    "    for movie in movies:\n",
    "        no_of_actors = len(movie['actors']) \n",
    "        if no_of_actors > highest_actors:\n",
    "            highest_actors = no_of_actors\n",
    "            \n",
    "    for movie in movies:\n",
    "        no_of_actors = len(movie['actors'])\n",
    "        if no_of_actors == highest_actors:\n",
    "            highest_movie += [movie['title']]\n",
    "            \n",
    "    return highest_movie\n",
    "\n",
    "get_highest_actors(movies)[0]\n",
    "            \n",
    "#get_number_of_uniques(movies, 'directors')"
   ]
  },
  {
   "cell_type": "code",
   "execution_count": 27,
   "metadata": {},
   "outputs": [],
   "source": [
    "def get_avg_movie_rating(movies):\n",
    "    avg_rating = 0.0\n",
    "    for movie in movies:\n",
    "        avg_rating += movie['rating']\n",
    "    return avg_rating/len(movies)"
   ]
  },
  {
   "cell_type": "code",
   "execution_count": 28,
   "metadata": {},
   "outputs": [
    {
     "data": {
      "text/plain": [
       "6.401659528907912"
      ]
     },
     "execution_count": 28,
     "metadata": {},
     "output_type": "execute_result"
    }
   ],
   "source": [
    "#q19\n",
    "#what is the average movie rating?\n",
    "##what is the average movie rating?\n",
    "get_avg_movie_rating(movies)"
   ]
  },
  {
   "cell_type": "code",
   "execution_count": 29,
   "metadata": {},
   "outputs": [
    {
     "data": {
      "text/plain": [
       "'Dr. Strangelove or: How I Learned to Stop Worrying and Love the Bomb'"
      ]
     },
     "execution_count": 29,
     "metadata": {},
     "output_type": "execute_result"
    }
   ],
   "source": [
    "#q20\n",
    "#what is the longest movie title in the dataset (in terms of most characters)\n",
    "longest_name = \"\"\n",
    "longest_length = 0\n",
    "for movie in movies:\n",
    "    if len(movie['title']) > longest_length:\n",
    "        longest_name = movie['title']\n",
    "        longest_length = len(movie['title'])\n",
    "longest_name"
   ]
  },
  {
   "cell_type": "code",
   "execution_count": 30,
   "metadata": {},
   "outputs": [],
   "source": [
    "def bucketize(movie_list, movie_key):\n",
    "    bucketized_movies = {}\n",
    "    for movie in movie_list:\n",
    "        if type(movie[movie_key]) is list:\n",
    "            for key in movie[movie_key]:\n",
    "                if key not in bucketized_movies:\n",
    "                    bucketized_movies[key] = [movie]\n",
    "                else:\n",
    "                    bucketized_movies[key] += [movie]\n",
    "        else:\n",
    "            if movie[movie_key] not in bucketized_movies:\n",
    "                bucketized_movies[movie[movie_key]] = [movie]\n",
    "            else:\n",
    "                bucketized_movies[movie[movie_key]] += [movie]\n",
    "                \n",
    "    return bucketized_movies"
   ]
  },
  {
   "cell_type": "code",
   "execution_count": 31,
   "metadata": {},
   "outputs": [],
   "source": [
    "test_movies = [\n",
    "{\"title\": \"A\", \"year\": 2018, \"style\": \"short\", \"genres\": [\"g1\"]},\n",
    "{\"title\": \"B\", \"year\": 2018, \"style\": \"long\",  \"genres\": [\"g2\"]},\n",
    "{\"title\": \"C\", \"year\": 2019, \"style\": \"short\", \"genres\": [\"g3\"]},\n",
    "{\"title\": \"D\", \"year\": 2019, \"style\": \"long\", \"genres\": [\"g1\", \"g2\", \"g3\"]},\n",
    "]"
   ]
  },
  {
   "cell_type": "code",
   "execution_count": 32,
   "metadata": {},
   "outputs": [
    {
     "data": {
      "text/plain": [
       "{2018: [{'title': 'A', 'year': 2018, 'style': 'short', 'genres': ['g1']},\n",
       "  {'title': 'B', 'year': 2018, 'style': 'long', 'genres': ['g2']}],\n",
       " 2019: [{'title': 'C', 'year': 2019, 'style': 'short', 'genres': ['g3']},\n",
       "  {'title': 'D', 'year': 2019, 'style': 'long', 'genres': ['g1', 'g2', 'g3']}]}"
      ]
     },
     "execution_count": 32,
     "metadata": {},
     "output_type": "execute_result"
    }
   ],
   "source": [
    "#q21\n",
    "#what is bucketize(test_movies, \"year\")?\n",
    "bucketize(test_movies, \"year\")"
   ]
  },
  {
   "cell_type": "code",
   "execution_count": 33,
   "metadata": {},
   "outputs": [
    {
     "data": {
      "text/plain": [
       "{'short': [{'title': 'A', 'year': 2018, 'style': 'short', 'genres': ['g1']},\n",
       "  {'title': 'C', 'year': 2019, 'style': 'short', 'genres': ['g3']}],\n",
       " 'long': [{'title': 'B', 'year': 2018, 'style': 'long', 'genres': ['g2']},\n",
       "  {'title': 'D', 'year': 2019, 'style': 'long', 'genres': ['g1', 'g2', 'g3']}]}"
      ]
     },
     "execution_count": 33,
     "metadata": {},
     "output_type": "execute_result"
    }
   ],
   "source": [
    "#q22\n",
    "#bucketize(test_movies, \"style\")\n",
    "bucketize(test_movies, \"style\")"
   ]
  },
  {
   "cell_type": "code",
   "execution_count": 34,
   "metadata": {},
   "outputs": [
    {
     "data": {
      "text/plain": [
       "{'g1': [{'title': 'A', 'year': 2018, 'style': 'short', 'genres': ['g1']},\n",
       "  {'title': 'D', 'year': 2019, 'style': 'long', 'genres': ['g1', 'g2', 'g3']}],\n",
       " 'g2': [{'title': 'B', 'year': 2018, 'style': 'long', 'genres': ['g2']},\n",
       "  {'title': 'D', 'year': 2019, 'style': 'long', 'genres': ['g1', 'g2', 'g3']}],\n",
       " 'g3': [{'title': 'C', 'year': 2019, 'style': 'short', 'genres': ['g3']},\n",
       "  {'title': 'D', 'year': 2019, 'style': 'long', 'genres': ['g1', 'g2', 'g3']}]}"
      ]
     },
     "execution_count": 34,
     "metadata": {},
     "output_type": "execute_result"
    }
   ],
   "source": [
    "#q23\n",
    "#bucketize(test_movies, \"genres\")\n",
    "bucketize(test_movies, \"genres\")"
   ]
  },
  {
   "cell_type": "code",
   "execution_count": 35,
   "metadata": {},
   "outputs": [
    {
     "data": {
      "text/plain": [
       "{'Crime': [{'title': 'Runaway Jury',\n",
       "   'year': 2003,\n",
       "   'rating': 7.1,\n",
       "   'directors': ['Gary Fleder'],\n",
       "   'actors': ['John Cusack', 'Gene Hackman', 'Dustin Hoffman'],\n",
       "   'genres': ['Crime', 'Drama', 'Thriller']},\n",
       "  {'title': 'Lethal Weapon',\n",
       "   'year': 1987,\n",
       "   'rating': 7.6,\n",
       "   'directors': ['Richard Donner'],\n",
       "   'actors': ['Mel Gibson', 'Danny Glover', 'Gary Busey', 'Mitchell Ryan'],\n",
       "   'genres': ['Action', 'Crime', 'Thriller']}],\n",
       " 'Drama': [{'title': 'Runaway Jury',\n",
       "   'year': 2003,\n",
       "   'rating': 7.1,\n",
       "   'directors': ['Gary Fleder'],\n",
       "   'actors': ['John Cusack', 'Gene Hackman', 'Dustin Hoffman'],\n",
       "   'genres': ['Crime', 'Drama', 'Thriller']}],\n",
       " 'Thriller': [{'title': 'Runaway Jury',\n",
       "   'year': 2003,\n",
       "   'rating': 7.1,\n",
       "   'directors': ['Gary Fleder'],\n",
       "   'actors': ['John Cusack', 'Gene Hackman', 'Dustin Hoffman'],\n",
       "   'genres': ['Crime', 'Drama', 'Thriller']},\n",
       "  {'title': 'Lethal Weapon',\n",
       "   'year': 1987,\n",
       "   'rating': 7.6,\n",
       "   'directors': ['Richard Donner'],\n",
       "   'actors': ['Mel Gibson', 'Danny Glover', 'Gary Busey', 'Mitchell Ryan'],\n",
       "   'genres': ['Action', 'Crime', 'Thriller']}],\n",
       " 'Action': [{'title': 'Lethal Weapon',\n",
       "   'year': 1987,\n",
       "   'rating': 7.6,\n",
       "   'directors': ['Richard Donner'],\n",
       "   'actors': ['Mel Gibson', 'Danny Glover', 'Gary Busey', 'Mitchell Ryan'],\n",
       "   'genres': ['Action', 'Crime', 'Thriller']}]}"
      ]
     },
     "execution_count": 35,
     "metadata": {},
     "output_type": "execute_result"
    }
   ],
   "source": [
    "#q24\n",
    "#bucketize(small, \"genres\")\n",
    "bucketize(small, \"genres\")"
   ]
  },
  {
   "cell_type": "code",
   "execution_count": 36,
   "metadata": {},
   "outputs": [
    {
     "data": {
      "text/plain": [
       "7"
      ]
     },
     "execution_count": 36,
     "metadata": {},
     "output_type": "execute_result"
    }
   ],
   "source": [
    "#q25\n",
    "#how many different unique actors appear in the small dataset\n",
    "#how many different unique actors appear in the full dataset\n",
    "len(bucketize(small, \"actors\"))"
   ]
  },
  {
   "cell_type": "code",
   "execution_count": 37,
   "metadata": {},
   "outputs": [
    {
     "data": {
      "text/plain": [
       "2605"
      ]
     },
     "execution_count": 37,
     "metadata": {},
     "output_type": "execute_result"
    }
   ],
   "source": [
    "#q26\n",
    "#how many unique genres appear in the full dataset\n",
    "#how many unique actors appear in the full dataset\n",
    "len(bucketize(movies, \"actors\"))"
   ]
  },
  {
   "cell_type": "code",
   "execution_count": 38,
   "metadata": {},
   "outputs": [
    {
     "data": {
      "text/plain": [
       "{'Comedy': 485,\n",
       " 'Drama': 1094,\n",
       " 'Romance': 352,\n",
       " 'History': 73,\n",
       " 'Family': 85,\n",
       " 'Mystery': 121,\n",
       " 'Thriller': 250,\n",
       " 'Action': 299,\n",
       " 'Crime': 357,\n",
       " 'Adventure': 283,\n",
       " 'Western': 226,\n",
       " 'Music': 38,\n",
       " 'Animation': 45,\n",
       " 'Sport': 48,\n",
       " 'Fantasy': 59,\n",
       " 'War': 99,\n",
       " 'Sci-Fi': 69,\n",
       " 'Horror': 85}"
      ]
     },
     "execution_count": 38,
     "metadata": {},
     "output_type": "execute_result"
    }
   ],
   "source": [
    "#q27\n",
    "#how many movies are there of each genre\n",
    "buckets = bucketize(movies, 'genres')\n",
    "genre_count = {}\n",
    "for genre in buckets:\n",
    "    genre_count[genre] = len(buckets[genre])\n",
    "    \n",
    "genre_count"
   ]
  },
  {
   "cell_type": "code",
   "execution_count": 39,
   "metadata": {},
   "outputs": [],
   "source": [
    "import matplotlib.pylab as plt\n",
    "def plot_dict(input_dict, xlabel, ylabel):\n",
    "    lists = sorted(input_dict.items()) \n",
    "    x, y = zip(*lists) \n",
    "    plt.bar(x, y)\n",
    "    plt.xlabel(xlabel)\n",
    "    plt.ylabel(ylabel)\n",
    "    plt.xticks(rotation=90)\n",
    "    plt.show()"
   ]
  },
  {
   "cell_type": "code",
   "execution_count": 40,
   "metadata": {},
   "outputs": [
    {
     "data": {
      "image/png": "[encoded data removed]",
      "text/plain": [
       "<Figure size 432x288 with 1 Axes>"
      ]
     },
     "metadata": {
      "needs_background": "light"
     },
     "output_type": "display_data"
    }
   ],
   "source": [
    "#q28\n",
    "#how many movies are there of each genre? (plot your answer)\n",
    "plot_dict(genre_count, 'gnere', 'Number of movies')"
   ]
  },
  {
   "cell_type": "code",
   "execution_count": 41,
   "metadata": {},
   "outputs": [
    {
     "data": {
      "image/png": "[encoded data removed]",
      "text/plain": [
       "<Figure size 432x288 with 1 Axes>"
      ]
     },
     "metadata": {
      "needs_background": "light"
     },
     "output_type": "display_data"
    }
   ],
   "source": [
    "#q29\n",
    "#how many movies are there of each genre, prior to 2000? (plot your answer)\n",
    "buckets = bucketize(movies, 'genres')\n",
    "genre_count = {}\n",
    "for genre in buckets:\n",
    "    genre_count[genre] = 0\n",
    "    for movie in buckets[genre]:\n",
    "        if movie['year'] < 2000:\n",
    "            genre_count[genre] += 1\n",
    "    \n",
    "plot_dict(genre_count, 'genre', 'Number of movies')"
   ]
  },
  {
   "cell_type": "code",
   "execution_count": 42,
   "metadata": {},
   "outputs": [
    {
     "data": {
      "image/png": "[encoded data removed]",
      "text/plain": [
       "<Figure size 432x288 with 1 Axes>"
      ]
     },
     "metadata": {
      "needs_background": "light"
     },
     "output_type": "display_data"
    }
   ],
   "source": [
    "#q30\n",
    "#how many movies are there of each genre, in or after 2000? (plot your answer)\n",
    "buckets = bucketize(movies, 'genres')\n",
    "genre_count = {}\n",
    "for genre in buckets:\n",
    "    genre_count[genre] = 0\n",
    "    for movie in buckets[genre]:\n",
    "        if movie['year'] >= 2000:\n",
    "            genre_count[genre] += 1\n",
    "    \n",
    "plot_dict(genre_count, 'genre', 'Number of movies')"
   ]
  },
  {
   "cell_type": "code",
   "execution_count": 43,
   "metadata": {},
   "outputs": [
    {
     "data": {
      "image/png": "[encoded data removed]",
      "text/plain": [
       "<Figure size 432x288 with 1 Axes>"
      ]
     },
     "metadata": {
      "needs_background": "light"
     },
     "output_type": "display_data"
    }
   ],
   "source": [
    "#q31\n",
    "#how many movies have there been per year, since (and including) 2000? (plot your answer)\n",
    "buckets = bucketize(movies, 'year')\n",
    "year_count = {}\n",
    "for year in buckets:\n",
    "    if year >= 2000:\n",
    "        year_count[str(year)] = len(buckets[year])\n",
    "    \n",
    "plot_dict(year_count, 'year', 'Number of movies')"
   ]
  },
  {
   "cell_type": "code",
   "execution_count": 44,
   "metadata": {},
   "outputs": [
    {
     "data": {
      "text/plain": [
       "{'Howard Hawks': 42,\n",
       " 'Charles Chaplin': 34,\n",
       " 'Henry Hathaway': 36,\n",
       " 'Stanley Kubrick': 46,\n",
       " 'Taylor Hackford': 32,\n",
       " 'Cecil B. DeMille': 30,\n",
       " 'Lee H. Katzin': 30,\n",
       " 'Richard Fleischer': 32,\n",
       " 'Sidney Lumet': 33,\n",
       " 'George Sherman': 33,\n",
       " 'John Huston': 30,\n",
       " 'Robert Siodmak': 30,\n",
       " 'Eldar Ryazanov': 31,\n",
       " 'Martin Ritt': 32}"
      ]
     },
     "execution_count": 44,
     "metadata": {},
     "output_type": "execute_result"
    }
   ],
   "source": [
    "#q32\n",
    "#what are the directing career spans of the directors who have directed for at least 35 years?\n",
    "import math\n",
    "def get_spans(movies, people, threshold):\n",
    "    spans_mapping = {}\n",
    "    buckets = bucketize(movies, people)\n",
    "    for person in buckets:\n",
    "        movies = buckets[person]\n",
    "        min_year = (math.inf)\n",
    "        max_year = 0\n",
    "        for i in range(len(movies)):\n",
    "            if movies[i]['year'] > max_year:\n",
    "                max_year = movies[i]['year']\n",
    "            if movies[i]['year'] < min_year:\n",
    "                min_year = movies[i]['year']\n",
    "        if (max_year - min_year) >= threshold:\n",
    "            spans_mapping[person] = max_year-min_year\n",
    "    return spans_mapping\n",
    "\n",
    "get_spans(movies, 'directors', 30)"
   ]
  },
  {
   "cell_type": "code",
   "execution_count": 45,
   "metadata": {},
   "outputs": [
    {
     "data": {
      "text/plain": [
       "{'Kurt Russell': 50,\n",
       " 'Mickey Rooney': 75,\n",
       " 'Robert Mitchum': 51,\n",
       " 'Glenn Ford': 52,\n",
       " 'James Caan': 52,\n",
       " 'Anthony Quinn': 61,\n",
       " 'George Burns': 60,\n",
       " 'Dean Stockwell': 53}"
      ]
     },
     "execution_count": 45,
     "metadata": {},
     "output_type": "execute_result"
    }
   ],
   "source": [
    "#q33\n",
    "#what are the acting career spans of the actors who have acted for at least 40 years?\n",
    "get_spans(movies, 'actors', 50)"
   ]
  },
  {
   "cell_type": "code",
   "execution_count": 46,
   "metadata": {},
   "outputs": [],
   "source": [
    "def get_formatted_list(input_list):\n",
    "    output_list = []\n",
    "    for element in input_list:\n",
    "        output_list += [{'name': element[0], 'span': element[1]}]\n",
    "    return output_list"
   ]
  },
  {
   "cell_type": "code",
   "execution_count": 47,
   "metadata": {},
   "outputs": [
    {
     "data": {
      "text/plain": [
       "[{'name': 'Stanley Kubrick', 'span': 46},\n",
       " {'name': 'Howard Hawks', 'span': 42},\n",
       " {'name': 'Henry Hathaway', 'span': 36},\n",
       " {'name': 'Charles Chaplin', 'span': 34},\n",
       " {'name': 'Sidney Lumet', 'span': 33},\n",
       " {'name': 'George Sherman', 'span': 33},\n",
       " {'name': 'Taylor Hackford', 'span': 32},\n",
       " {'name': 'Richard Fleischer', 'span': 32},\n",
       " {'name': 'Martin Ritt', 'span': 32},\n",
       " {'name': 'Eldar Ryazanov', 'span': 31}]"
      ]
     },
     "execution_count": 47,
     "metadata": {},
     "output_type": "execute_result"
    }
   ],
   "source": [
    "#q34\n",
    "#who are the 10 directors with the longest careers?\n",
    "director_spans = get_spans(movies, 'directors', 0)\n",
    "director_spans = sorted(director_spans.items(), key=lambda x: x[1], reverse=True)\n",
    "get_formatted_list(director_spans[:10])"
   ]
  },
  {
   "cell_type": "code",
   "execution_count": 48,
   "metadata": {},
   "outputs": [
    {
     "data": {
      "text/plain": [
       "[{'name': 'Mickey Rooney', 'span': 75},\n",
       " {'name': 'Anthony Quinn', 'span': 61},\n",
       " {'name': 'George Burns', 'span': 60},\n",
       " {'name': 'Dean Stockwell', 'span': 53},\n",
       " {'name': 'Glenn Ford', 'span': 52},\n",
       " {'name': 'James Caan', 'span': 52},\n",
       " {'name': 'Robert Mitchum', 'span': 51},\n",
       " {'name': 'Kurt Russell', 'span': 50},\n",
       " {'name': 'Robert De Niro', 'span': 49},\n",
       " {'name': 'Marlon Brando', 'span': 49}]"
      ]
     },
     "execution_count": 48,
     "metadata": {},
     "output_type": "execute_result"
    }
   ],
   "source": [
    "#q35\n",
    "#who are the 10 actors with the longest careers?\n",
    "director_spans = get_spans(movies, 'actors', 0)\n",
    "director_spans = sorted(director_spans.items(), key=lambda x: x[1], reverse=True)\n",
    "get_formatted_list(director_spans[:10])"
   ]
  },
  {
   "cell_type": "code",
   "execution_count": 49,
   "metadata": {},
   "outputs": [],
   "source": [
    "from statistics import median\n",
    "def get_median_ratings_with_count(movies, column):\n",
    "    median_ratings = []\n",
    "    buckets = bucketize(movies, column)\n",
    "    for key in buckets: \n",
    "        movies = buckets[key]\n",
    "        count = len(movies)\n",
    "        median_list = []\n",
    "        for movie in movies:\n",
    "            median_list += [movie['rating']]\n",
    "        median_val = median(median_list)\n",
    "        median_ratings += [{'category': key, 'rating': median_val, 'count': count}]\n",
    "    return median_ratings"
   ]
  },
  {
   "cell_type": "code",
   "execution_count": 50,
   "metadata": {},
   "outputs": [
    {
     "data": {
      "text/plain": [
       "[{'category': 'Animation', 'rating': 7.3, 'count': 45},\n",
       " {'category': 'History', 'rating': 6.7, 'count': 73},\n",
       " {'category': 'War', 'rating': 6.7, 'count': 99}]"
      ]
     },
     "execution_count": 50,
     "metadata": {},
     "output_type": "execute_result"
    }
   ],
   "source": [
    "#q36\n",
    "#what are the three genres in which movies receive the highest median rating?\n",
    "median_ratings = get_median_ratings_with_count(movies, 'genres')\n",
    "sorted(median_ratings, key=lambda x: x['rating'], reverse=True)[:3]"
   ]
  },
  {
   "cell_type": "code",
   "execution_count": 51,
   "metadata": {},
   "outputs": [
    {
     "data": {
      "text/plain": [
       "[{'category': 1921, 'rating': 8.3, 'count': 1},\n",
       " {'category': 1925, 'rating': 8.2, 'count': 1},\n",
       " {'category': 1919, 'rating': 7.5, 'count': 1},\n",
       " {'category': 1923, 'rating': 7.3, 'count': 2},\n",
       " {'category': 1962, 'rating': 7.2, 'count': 17},\n",
       " {'category': 1964, 'rating': 7.1, 'count': 19},\n",
       " {'category': 1957, 'rating': 7.0, 'count': 24},\n",
       " {'category': 1985, 'rating': 7.0, 'count': 17},\n",
       " {'category': 1976, 'rating': 7.0, 'count': 17},\n",
       " {'category': 1963, 'rating': 6.95, 'count': 10}]"
      ]
     },
     "execution_count": 51,
     "metadata": {},
     "output_type": "execute_result"
    }
   ],
   "source": [
    "#q37\n",
    "# what were the 10 best years for movies?\n",
    "best_years = get_median_ratings_with_count(movies, 'year')\n",
    "best_years = sorted(best_years, key=lambda x: x['rating'], reverse=True)[:10]\n",
    "best_years"
   ]
  },
  {
   "cell_type": "code",
   "execution_count": 52,
   "metadata": {},
   "outputs": [
    {
     "data": {
      "text/plain": [
       "[{'category': 1962, 'rating': 7.2, 'count': 17},\n",
       " {'category': 1964, 'rating': 7.1, 'count': 19},\n",
       " {'category': 1957, 'rating': 7.0, 'count': 24},\n",
       " {'category': 1985, 'rating': 7.0, 'count': 17},\n",
       " {'category': 1976, 'rating': 7.0, 'count': 17}]"
      ]
     },
     "execution_count": 52,
     "metadata": {},
     "output_type": "execute_result"
    }
   ],
   "source": [
    "#q38\n",
    "#what were the 5 best years for movies, if we only consider years with at least 10 movies?\n",
    "def filter_ratings_on_count(input_list, threshold):\n",
    "    output_list = []\n",
    "    for i in range(len(input_list)):\n",
    "        if input_list[i]['count'] < threshold:\n",
    "            continue\n",
    "        else:\n",
    "            output_list += [input_list[i]]\n",
    "    return sorted(output_list, key=lambda x: x['rating'], reverse=True)\n",
    "filter_ratings_on_count(best_years, 10)[:5]"
   ]
  },
  {
   "cell_type": "code",
   "execution_count": 53,
   "metadata": {},
   "outputs": [
    {
     "data": {
      "text/plain": [
       "[{'category': 'Christopher Nolan', 'rating': 8.5, 'count': 9},\n",
       " {'category': 'Leonid Gayday', 'rating': 8.4, 'count': 5},\n",
       " {'category': 'Stanley Kubrick', 'rating': 8.3, 'count': 11},\n",
       " {'category': 'Sergio Leone', 'rating': 8.3, 'count': 7},\n",
       " {'category': 'Satyajit Ray', 'rating': 8.2, 'count': 9},\n",
       " {'category': 'Andrew Grieve', 'rating': 8.2, 'count': 6},\n",
       " {'category': 'Charles Chaplin', 'rating': 8.1, 'count': 11},\n",
       " {'category': 'Hayao Miyazaki', 'rating': 8.1, 'count': 9},\n",
       " {'category': 'Lee Unkrich', 'rating': 8.1, 'count': 5},\n",
       " {'category': 'Eldar Ryazanov', 'rating': 8.1, 'count': 5},\n",
       " {'category': 'Martin Scorsese', 'rating': 8.0, 'count': 8}]"
      ]
     },
     "execution_count": 53,
     "metadata": {},
     "output_type": "execute_result"
    }
   ],
   "source": [
    "#q39\n",
    "#who are the 6 best directors, if we only count directors having at least 3 movies?\n",
    "directors = filter_ratings_on_count(get_median_ratings_with_count(movies, 'directors'), 5)\n",
    "\n",
    "#print(directors)\n",
    "top_directors = []\n",
    "for director in directors:\n",
    "    if director['rating'] >= 8.0:\n",
    "        top_directors += [director]\n",
    "\n",
    "top_directors"
   ]
  },
  {
   "cell_type": "code",
   "execution_count": 54,
   "metadata": {},
   "outputs": [
    {
     "data": {
      "text/plain": [
       "[{'category': 'Henry Bergman', 'rating': 8.2, 'count': 5},\n",
       " {'category': 'Ioan Gruffudd', 'rating': 8.2, 'count': 6},\n",
       " {'category': 'Robert Lindsay', 'rating': 8.2, 'count': 6}]"
      ]
     },
     "execution_count": 54,
     "metadata": {},
     "output_type": "execute_result"
    }
   ],
   "source": [
    "#q40\n",
    "#who are the 3 best actors, if we only count actors having at least 5 movies\n",
    "filter_ratings_on_count(get_median_ratings_with_count(movies, 'actors'), 5)[:3]"
   ]
  },
  {
   "cell_type": "code",
   "execution_count": null,
   "metadata": {},
   "outputs": [],
   "source": []
  }
 ],
 "metadata": {
  "kernelspec": {
   "display_name": "Python 3",
   "language": "python",
   "name": "python3"
  },
  "language_info": {
   "codemirror_mode": {
    "name": "ipython",
    "version": 3
   },
   "file_extension": ".py",
   "mimetype": "text/x-python",
   "name": "python",
   "nbconvert_exporter": "python",
   "pygments_lexer": "ipython3",
   "version": "3.7.4"
  }
 },
 "nbformat": 4,
 "nbformat_minor": 2
}
